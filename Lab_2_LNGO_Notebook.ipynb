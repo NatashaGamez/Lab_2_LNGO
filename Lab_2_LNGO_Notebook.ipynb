{
 "cells": [
  {
   "cell_type": "markdown",
   "metadata": {},
   "source": [
    "<img src=\"http://oci02.img.iteso.mx/identidad_de_instancia_2018/ITESO/Logos%20ITESO/Logo-ITESO-Principal.jpg\">"
   ]
  },
  {
   "cell_type": "markdown",
   "metadata": {},
   "source": [
    "<center> <font color= #004A94> <font size = 5> Ingeniería Financiera | ITESO </font> <br> <br>"
   ]
  },
  {
   "cell_type": "markdown",
   "metadata": {},
   "source": [
    "<center> <font color= #004A94> <font size = 6> Microestructura y Sistemas de Trading </font> <br> <br>"
   ]
  },
  {
   "cell_type": "markdown",
   "metadata": {},
   "source": [
    "<center> <font color=#42c29b><font size=5> Laboratorio 2 <br> <br> Behavioral Finance para Trading </font> <br> <br>"
   ]
  },
  {
   "cell_type": "markdown",
   "metadata": {},
   "source": [
    "<center> <font color=#004A94><font size=4> I.F. Lidia Natasha Gamez  | if709031@iteso.mx </font> <br> <br>"
   ]
  },
  {
   "cell_type": "code",
   "execution_count": 1,
   "metadata": {},
   "outputs": [],
   "source": [
    "import funciones as fn\n",
    "import visualizaciones as vi"
   ]
  },
  {
   "cell_type": "markdown",
   "metadata": {},
   "source": [
    "### Parte 2) \n",
    "##### Mediciones de estadísticas básicas de una cuenta de trading."
   ]
  },
  {
   "cell_type": "code",
   "execution_count": 2,
   "metadata": {},
   "outputs": [],
   "source": [
    "#Datos\n",
    "datos = fn.f_leer_archivo(param_archivo='archivo_tradeview_1.xlsx')"
   ]
  },
  {
   "cell_type": "code",
   "execution_count": 3,
   "metadata": {},
   "outputs": [
    {
     "name": "stderr",
     "output_type": "stream",
     "text": [
      "/Users/natasha/Documents/Trading/Lab_2_LNGO/funciones.py:124: SettingWithCopyWarning:\n",
      "\n",
      "\n",
      "A value is trying to be set on a copy of a slice from a DataFrame\n",
      "\n",
      "See the caveats in the documentation: http://pandas.pydata.org/pandas-docs/stable/user_guide/indexing.html#returning-a-view-versus-a-copy\n",
      "\n",
      "/Users/natasha/Documents/Trading/Lab_2_LNGO/funciones.py:130: SettingWithCopyWarning:\n",
      "\n",
      "\n",
      "A value is trying to be set on a copy of a slice from a DataFrame\n",
      "\n",
      "See the caveats in the documentation: http://pandas.pydata.org/pandas-docs/stable/user_guide/indexing.html#returning-a-view-versus-a-copy\n",
      "\n",
      "/Users/natasha/Documents/Trading/Lab_2_LNGO/funciones.py:135: SettingWithCopyWarning:\n",
      "\n",
      "\n",
      "A value is trying to be set on a copy of a slice from a DataFrame\n",
      "\n",
      "See the caveats in the documentation: http://pandas.pydata.org/pandas-docs/stable/user_guide/indexing.html#returning-a-view-versus-a-copy\n",
      "\n",
      "/Users/natasha/Documents/Trading/Lab_2_LNGO/funciones.py:132: SettingWithCopyWarning:\n",
      "\n",
      "\n",
      "A value is trying to be set on a copy of a slice from a DataFrame\n",
      "\n",
      "See the caveats in the documentation: http://pandas.pydata.org/pandas-docs/stable/user_guide/indexing.html#returning-a-view-versus-a-copy\n",
      "\n",
      "/Users/natasha/Documents/Trading/Lab_2_LNGO/funciones.py:137: SettingWithCopyWarning:\n",
      "\n",
      "\n",
      "A value is trying to be set on a copy of a slice from a DataFrame\n",
      "\n",
      "See the caveats in the documentation: http://pandas.pydata.org/pandas-docs/stable/user_guide/indexing.html#returning-a-view-versus-a-copy\n",
      "\n",
      "/Users/natasha/Documents/Trading/Lab_2_LNGO/funciones.py:127: SettingWithCopyWarning:\n",
      "\n",
      "\n",
      "A value is trying to be set on a copy of a slice from a DataFrame\n",
      "\n",
      "See the caveats in the documentation: http://pandas.pydata.org/pandas-docs/stable/user_guide/indexing.html#returning-a-view-versus-a-copy\n",
      "\n"
     ]
    },
    {
     "data": {
      "text/html": [
       "<div>\n",
       "<style scoped>\n",
       "    .dataframe tbody tr th:only-of-type {\n",
       "        vertical-align: middle;\n",
       "    }\n",
       "\n",
       "    .dataframe tbody tr th {\n",
       "        vertical-align: top;\n",
       "    }\n",
       "\n",
       "    .dataframe thead th {\n",
       "        text-align: right;\n",
       "    }\n",
       "</style>\n",
       "<table border=\"1\" class=\"dataframe\">\n",
       "  <thead>\n",
       "    <tr style=\"text-align: right;\">\n",
       "      <th></th>\n",
       "      <th>order</th>\n",
       "      <th>opentime</th>\n",
       "      <th>type</th>\n",
       "      <th>size</th>\n",
       "      <th>symbol</th>\n",
       "      <th>openprice</th>\n",
       "      <th>s/l</th>\n",
       "      <th>t/p</th>\n",
       "      <th>closetime</th>\n",
       "      <th>closeprice</th>\n",
       "      <th>commission</th>\n",
       "      <th>taxes</th>\n",
       "      <th>swap</th>\n",
       "      <th>profit</th>\n",
       "      <th>tiempo</th>\n",
       "      <th>pips</th>\n",
       "      <th>pips_acm</th>\n",
       "      <th>profit_acm</th>\n",
       "    </tr>\n",
       "  </thead>\n",
       "  <tbody>\n",
       "    <tr>\n",
       "      <th>0</th>\n",
       "      <td>24316034</td>\n",
       "      <td>2019-08-27 06:57:50</td>\n",
       "      <td>buy</td>\n",
       "      <td>0.04</td>\n",
       "      <td>xauusd</td>\n",
       "      <td>1529.21000</td>\n",
       "      <td>1523.000</td>\n",
       "      <td>1543.0000</td>\n",
       "      <td>2019-08-27 09:16:01</td>\n",
       "      <td>1533.69000</td>\n",
       "      <td>0.0</td>\n",
       "      <td>0</td>\n",
       "      <td>0</td>\n",
       "      <td>17.92</td>\n",
       "      <td>8291.0</td>\n",
       "      <td>44</td>\n",
       "      <td>44</td>\n",
       "      <td>17.92</td>\n",
       "    </tr>\n",
       "    <tr>\n",
       "      <th>1</th>\n",
       "      <td>24334215</td>\n",
       "      <td>2019-08-27 17:06:20</td>\n",
       "      <td>buy</td>\n",
       "      <td>0.01</td>\n",
       "      <td>eurjpy</td>\n",
       "      <td>117.66400</td>\n",
       "      <td>116.950</td>\n",
       "      <td>118.7000</td>\n",
       "      <td>2019-08-29 06:38:16</td>\n",
       "      <td>117.37400</td>\n",
       "      <td>0.0</td>\n",
       "      <td>0</td>\n",
       "      <td>0</td>\n",
       "      <td>-2.73</td>\n",
       "      <td>135116.0</td>\n",
       "      <td>-29</td>\n",
       "      <td>15</td>\n",
       "      <td>15.19</td>\n",
       "    </tr>\n",
       "    <tr>\n",
       "      <th>2</th>\n",
       "      <td>24342155</td>\n",
       "      <td>2019-08-27 19:25:39</td>\n",
       "      <td>buy</td>\n",
       "      <td>0.05</td>\n",
       "      <td>eurjpy</td>\n",
       "      <td>117.34600</td>\n",
       "      <td>116.950</td>\n",
       "      <td>119.7000</td>\n",
       "      <td>2019-08-28 21:01:24</td>\n",
       "      <td>117.45200</td>\n",
       "      <td>0.0</td>\n",
       "      <td>0</td>\n",
       "      <td>0</td>\n",
       "      <td>5.00</td>\n",
       "      <td>92145.0</td>\n",
       "      <td>10</td>\n",
       "      <td>25</td>\n",
       "      <td>20.19</td>\n",
       "    </tr>\n",
       "    <tr>\n",
       "      <th>3</th>\n",
       "      <td>24373260</td>\n",
       "      <td>2019-08-28 17:11:33</td>\n",
       "      <td>buy</td>\n",
       "      <td>0.01</td>\n",
       "      <td>eurusd</td>\n",
       "      <td>1.10791</td>\n",
       "      <td>1.104</td>\n",
       "      <td>1.1175</td>\n",
       "      <td>2019-08-29 06:38:28</td>\n",
       "      <td>1.10818</td>\n",
       "      <td>0.0</td>\n",
       "      <td>0</td>\n",
       "      <td>0</td>\n",
       "      <td>0.27</td>\n",
       "      <td>48415.0</td>\n",
       "      <td>2</td>\n",
       "      <td>27</td>\n",
       "      <td>20.46</td>\n",
       "    </tr>\n",
       "    <tr>\n",
       "      <th>4</th>\n",
       "      <td>24392415</td>\n",
       "      <td>2019-08-29 06:35:27</td>\n",
       "      <td>buy</td>\n",
       "      <td>0.01</td>\n",
       "      <td>gbpusd</td>\n",
       "      <td>1.22024</td>\n",
       "      <td>1.208</td>\n",
       "      <td>1.2370</td>\n",
       "      <td>2019-08-29 06:37:23</td>\n",
       "      <td>1.21990</td>\n",
       "      <td>0.0</td>\n",
       "      <td>0</td>\n",
       "      <td>0</td>\n",
       "      <td>-0.34</td>\n",
       "      <td>116.0</td>\n",
       "      <td>-3</td>\n",
       "      <td>24</td>\n",
       "      <td>20.12</td>\n",
       "    </tr>\n",
       "    <tr>\n",
       "      <th>...</th>\n",
       "      <td>...</td>\n",
       "      <td>...</td>\n",
       "      <td>...</td>\n",
       "      <td>...</td>\n",
       "      <td>...</td>\n",
       "      <td>...</td>\n",
       "      <td>...</td>\n",
       "      <td>...</td>\n",
       "      <td>...</td>\n",
       "      <td>...</td>\n",
       "      <td>...</td>\n",
       "      <td>...</td>\n",
       "      <td>...</td>\n",
       "      <td>...</td>\n",
       "      <td>...</td>\n",
       "      <td>...</td>\n",
       "      <td>...</td>\n",
       "      <td>...</td>\n",
       "    </tr>\n",
       "    <tr>\n",
       "      <th>79</th>\n",
       "      <td>25148355</td>\n",
       "      <td>2019-09-24 20:09:52</td>\n",
       "      <td>sell</td>\n",
       "      <td>0.06</td>\n",
       "      <td>xauusd</td>\n",
       "      <td>1532.02000</td>\n",
       "      <td>1538.000</td>\n",
       "      <td>0.0000</td>\n",
       "      <td>2019-09-24 21:18:43</td>\n",
       "      <td>1525.66000</td>\n",
       "      <td>0.0</td>\n",
       "      <td>0</td>\n",
       "      <td>0</td>\n",
       "      <td>38.16</td>\n",
       "      <td>4131.0</td>\n",
       "      <td>63</td>\n",
       "      <td>1558</td>\n",
       "      <td>210.31</td>\n",
       "    </tr>\n",
       "    <tr>\n",
       "      <th>80</th>\n",
       "      <td>25148480</td>\n",
       "      <td>2019-09-24 20:11:20</td>\n",
       "      <td>sell</td>\n",
       "      <td>0.02</td>\n",
       "      <td>xauusd</td>\n",
       "      <td>1531.50000</td>\n",
       "      <td>1538.000</td>\n",
       "      <td>0.0000</td>\n",
       "      <td>2019-09-24 21:18:46</td>\n",
       "      <td>1525.63000</td>\n",
       "      <td>0.0</td>\n",
       "      <td>0</td>\n",
       "      <td>0</td>\n",
       "      <td>11.74</td>\n",
       "      <td>4046.0</td>\n",
       "      <td>58</td>\n",
       "      <td>1616</td>\n",
       "      <td>222.05</td>\n",
       "    </tr>\n",
       "    <tr>\n",
       "      <th>81</th>\n",
       "      <td>25148522</td>\n",
       "      <td>2019-09-24 20:12:41</td>\n",
       "      <td>sell</td>\n",
       "      <td>0.01</td>\n",
       "      <td>xauusd</td>\n",
       "      <td>1531.86000</td>\n",
       "      <td>1538.000</td>\n",
       "      <td>0.0000</td>\n",
       "      <td>2019-09-24 21:18:49</td>\n",
       "      <td>1525.66000</td>\n",
       "      <td>0.0</td>\n",
       "      <td>0</td>\n",
       "      <td>0</td>\n",
       "      <td>6.20</td>\n",
       "      <td>3968.0</td>\n",
       "      <td>61</td>\n",
       "      <td>1677</td>\n",
       "      <td>228.25</td>\n",
       "    </tr>\n",
       "    <tr>\n",
       "      <th>82</th>\n",
       "      <td>25159294</td>\n",
       "      <td>2019-09-25 01:53:47</td>\n",
       "      <td>sell</td>\n",
       "      <td>0.06</td>\n",
       "      <td>xauusd</td>\n",
       "      <td>1531.06000</td>\n",
       "      <td>1537.000</td>\n",
       "      <td>0.0000</td>\n",
       "      <td>2019-09-25 15:24:31</td>\n",
       "      <td>1527.40000</td>\n",
       "      <td>0.0</td>\n",
       "      <td>0</td>\n",
       "      <td>0</td>\n",
       "      <td>21.96</td>\n",
       "      <td>48644.0</td>\n",
       "      <td>36</td>\n",
       "      <td>1713</td>\n",
       "      <td>250.21</td>\n",
       "    </tr>\n",
       "    <tr>\n",
       "      <th>83</th>\n",
       "      <td>25159303</td>\n",
       "      <td>2019-09-25 01:54:46</td>\n",
       "      <td>sell</td>\n",
       "      <td>0.01</td>\n",
       "      <td>xauusd</td>\n",
       "      <td>1531.28000</td>\n",
       "      <td>1537.000</td>\n",
       "      <td>0.0000</td>\n",
       "      <td>2019-09-25 15:24:35</td>\n",
       "      <td>1527.36000</td>\n",
       "      <td>0.0</td>\n",
       "      <td>0</td>\n",
       "      <td>0</td>\n",
       "      <td>3.92</td>\n",
       "      <td>48589.0</td>\n",
       "      <td>39</td>\n",
       "      <td>1752</td>\n",
       "      <td>254.13</td>\n",
       "    </tr>\n",
       "  </tbody>\n",
       "</table>\n",
       "<p>84 rows × 18 columns</p>\n",
       "</div>"
      ],
      "text/plain": [
       "       order            opentime  type  size  symbol   openprice       s/l  \\\n",
       "0   24316034 2019-08-27 06:57:50   buy  0.04  xauusd  1529.21000  1523.000   \n",
       "1   24334215 2019-08-27 17:06:20   buy  0.01  eurjpy   117.66400   116.950   \n",
       "2   24342155 2019-08-27 19:25:39   buy  0.05  eurjpy   117.34600   116.950   \n",
       "3   24373260 2019-08-28 17:11:33   buy  0.01  eurusd     1.10791     1.104   \n",
       "4   24392415 2019-08-29 06:35:27   buy  0.01  gbpusd     1.22024     1.208   \n",
       "..       ...                 ...   ...   ...     ...         ...       ...   \n",
       "79  25148355 2019-09-24 20:09:52  sell  0.06  xauusd  1532.02000  1538.000   \n",
       "80  25148480 2019-09-24 20:11:20  sell  0.02  xauusd  1531.50000  1538.000   \n",
       "81  25148522 2019-09-24 20:12:41  sell  0.01  xauusd  1531.86000  1538.000   \n",
       "82  25159294 2019-09-25 01:53:47  sell  0.06  xauusd  1531.06000  1537.000   \n",
       "83  25159303 2019-09-25 01:54:46  sell  0.01  xauusd  1531.28000  1537.000   \n",
       "\n",
       "          t/p           closetime  closeprice  commission  taxes  swap  \\\n",
       "0   1543.0000 2019-08-27 09:16:01  1533.69000         0.0      0     0   \n",
       "1    118.7000 2019-08-29 06:38:16   117.37400         0.0      0     0   \n",
       "2    119.7000 2019-08-28 21:01:24   117.45200         0.0      0     0   \n",
       "3      1.1175 2019-08-29 06:38:28     1.10818         0.0      0     0   \n",
       "4      1.2370 2019-08-29 06:37:23     1.21990         0.0      0     0   \n",
       "..        ...                 ...         ...         ...    ...   ...   \n",
       "79     0.0000 2019-09-24 21:18:43  1525.66000         0.0      0     0   \n",
       "80     0.0000 2019-09-24 21:18:46  1525.63000         0.0      0     0   \n",
       "81     0.0000 2019-09-24 21:18:49  1525.66000         0.0      0     0   \n",
       "82     0.0000 2019-09-25 15:24:31  1527.40000         0.0      0     0   \n",
       "83     0.0000 2019-09-25 15:24:35  1527.36000         0.0      0     0   \n",
       "\n",
       "    profit    tiempo  pips  pips_acm  profit_acm  \n",
       "0    17.92    8291.0    44        44       17.92  \n",
       "1    -2.73  135116.0   -29        15       15.19  \n",
       "2     5.00   92145.0    10        25       20.19  \n",
       "3     0.27   48415.0     2        27       20.46  \n",
       "4    -0.34     116.0    -3        24       20.12  \n",
       "..     ...       ...   ...       ...         ...  \n",
       "79   38.16    4131.0    63      1558      210.31  \n",
       "80   11.74    4046.0    58      1616      222.05  \n",
       "81    6.20    3968.0    61      1677      228.25  \n",
       "82   21.96   48644.0    36      1713      250.21  \n",
       "83    3.92   48589.0    39      1752      254.13  \n",
       "\n",
       "[84 rows x 18 columns]"
      ]
     },
     "execution_count": 3,
     "metadata": {},
     "output_type": "execute_result"
    }
   ],
   "source": [
    "datos = fn.f_columnas_tiempos(datos)\n",
    "datos = fn.f_columnas_pips(datos)\n",
    "datos"
   ]
  },
  {
   "cell_type": "code",
   "execution_count": 4,
   "metadata": {},
   "outputs": [
    {
     "name": "stderr",
     "output_type": "stream",
     "text": [
      "/Users/natasha/Documents/Trading/Lab_2_LNGO/funciones.py:223: SettingWithCopyWarning:\n",
      "\n",
      "\n",
      "A value is trying to be set on a copy of a slice from a DataFrame\n",
      "\n",
      "See the caveats in the documentation: http://pandas.pydata.org/pandas-docs/stable/user_guide/indexing.html#returning-a-view-versus-a-copy\n",
      "\n"
     ]
    },
    {
     "data": {
      "text/html": [
       "<div>\n",
       "<style scoped>\n",
       "    .dataframe tbody tr th:only-of-type {\n",
       "        vertical-align: middle;\n",
       "    }\n",
       "\n",
       "    .dataframe tbody tr th {\n",
       "        vertical-align: top;\n",
       "    }\n",
       "\n",
       "    .dataframe thead th {\n",
       "        text-align: right;\n",
       "    }\n",
       "</style>\n",
       "<table border=\"1\" class=\"dataframe\">\n",
       "  <thead>\n",
       "    <tr style=\"text-align: right;\">\n",
       "      <th></th>\n",
       "      <th>Name</th>\n",
       "      <th>Valor</th>\n",
       "    </tr>\n",
       "  </thead>\n",
       "  <tbody>\n",
       "    <tr>\n",
       "      <th>0</th>\n",
       "      <td>Ops totales</td>\n",
       "      <td>84</td>\n",
       "    </tr>\n",
       "    <tr>\n",
       "      <th>1</th>\n",
       "      <td>Ganadoras</td>\n",
       "      <td>46</td>\n",
       "    </tr>\n",
       "    <tr>\n",
       "      <th>2</th>\n",
       "      <td>Ganadoras_c</td>\n",
       "      <td>20</td>\n",
       "    </tr>\n",
       "    <tr>\n",
       "      <th>3</th>\n",
       "      <td>Ganadoras_v</td>\n",
       "      <td>26</td>\n",
       "    </tr>\n",
       "    <tr>\n",
       "      <th>4</th>\n",
       "      <td>Perdedoras</td>\n",
       "      <td>38</td>\n",
       "    </tr>\n",
       "    <tr>\n",
       "      <th>5</th>\n",
       "      <td>Perdedoras_c</td>\n",
       "      <td>19</td>\n",
       "    </tr>\n",
       "    <tr>\n",
       "      <th>6</th>\n",
       "      <td>Perdedoras_v</td>\n",
       "      <td>19</td>\n",
       "    </tr>\n",
       "    <tr>\n",
       "      <th>7</th>\n",
       "      <td>Media(Profit)</td>\n",
       "      <td>1.205</td>\n",
       "    </tr>\n",
       "    <tr>\n",
       "      <th>8</th>\n",
       "      <td>Media(Pips)</td>\n",
       "      <td>25590.5</td>\n",
       "    </tr>\n",
       "    <tr>\n",
       "      <th>9</th>\n",
       "      <td>r_efectividad</td>\n",
       "      <td>0.547619</td>\n",
       "    </tr>\n",
       "    <tr>\n",
       "      <th>10</th>\n",
       "      <td>r_proporcion</td>\n",
       "      <td>1.21053</td>\n",
       "    </tr>\n",
       "    <tr>\n",
       "      <th>11</th>\n",
       "      <td>r_efectividad_v</td>\n",
       "      <td>0.238095</td>\n",
       "    </tr>\n",
       "    <tr>\n",
       "      <th>12</th>\n",
       "      <td>r_efectividad_c</td>\n",
       "      <td>0.309524</td>\n",
       "    </tr>\n",
       "  </tbody>\n",
       "</table>\n",
       "</div>"
      ],
      "text/plain": [
       "               Name     Valor\n",
       "0       Ops totales        84\n",
       "1         Ganadoras        46\n",
       "2       Ganadoras_c        20\n",
       "3       Ganadoras_v        26\n",
       "4        Perdedoras        38\n",
       "5      Perdedoras_c        19\n",
       "6      Perdedoras_v        19\n",
       "7     Media(Profit)     1.205\n",
       "8       Media(Pips)   25590.5\n",
       "9     r_efectividad  0.547619\n",
       "10     r_proporcion   1.21053\n",
       "11  r_efectividad_v  0.238095\n",
       "12  r_efectividad_c  0.309524"
      ]
     },
     "execution_count": 4,
     "metadata": {},
     "output_type": "execute_result"
    }
   ],
   "source": [
    "[df_1_tabla, df_1_ranking]  = fn.f_estadisticas_ba(datos)\n",
    "df_1_tabla"
   ]
  },
  {
   "cell_type": "code",
   "execution_count": 5,
   "metadata": {},
   "outputs": [
    {
     "data": {
      "text/html": [
       "<div>\n",
       "<style scoped>\n",
       "    .dataframe tbody tr th:only-of-type {\n",
       "        vertical-align: middle;\n",
       "    }\n",
       "\n",
       "    .dataframe tbody tr th {\n",
       "        vertical-align: top;\n",
       "    }\n",
       "\n",
       "    .dataframe thead th {\n",
       "        text-align: right;\n",
       "    }\n",
       "</style>\n",
       "<table border=\"1\" class=\"dataframe\">\n",
       "  <thead>\n",
       "    <tr style=\"text-align: right;\">\n",
       "      <th></th>\n",
       "      <th>Symbol</th>\n",
       "      <th>Rank %</th>\n",
       "    </tr>\n",
       "  </thead>\n",
       "  <tbody>\n",
       "    <tr>\n",
       "      <th>0</th>\n",
       "      <td>eurgbp</td>\n",
       "      <td>100</td>\n",
       "    </tr>\n",
       "    <tr>\n",
       "      <th>1</th>\n",
       "      <td>btcusd</td>\n",
       "      <td>100</td>\n",
       "    </tr>\n",
       "    <tr>\n",
       "      <th>2</th>\n",
       "      <td>usdmxn</td>\n",
       "      <td>80</td>\n",
       "    </tr>\n",
       "    <tr>\n",
       "      <th>3</th>\n",
       "      <td>xauusd</td>\n",
       "      <td>73</td>\n",
       "    </tr>\n",
       "    <tr>\n",
       "      <th>4</th>\n",
       "      <td>gbpusd</td>\n",
       "      <td>66</td>\n",
       "    </tr>\n",
       "    <tr>\n",
       "      <th>5</th>\n",
       "      <td>usdjpy</td>\n",
       "      <td>60</td>\n",
       "    </tr>\n",
       "    <tr>\n",
       "      <th>6</th>\n",
       "      <td>eurusd</td>\n",
       "      <td>47</td>\n",
       "    </tr>\n",
       "    <tr>\n",
       "      <th>7</th>\n",
       "      <td>audusd</td>\n",
       "      <td>33</td>\n",
       "    </tr>\n",
       "    <tr>\n",
       "      <th>8</th>\n",
       "      <td>eurjpy</td>\n",
       "      <td>28</td>\n",
       "    </tr>\n",
       "    <tr>\n",
       "      <th>9</th>\n",
       "      <td>usdcad</td>\n",
       "      <td>28</td>\n",
       "    </tr>\n",
       "    <tr>\n",
       "      <th>10</th>\n",
       "      <td>gbpjpy</td>\n",
       "      <td>25</td>\n",
       "    </tr>\n",
       "  </tbody>\n",
       "</table>\n",
       "</div>"
      ],
      "text/plain": [
       "    Symbol  Rank %\n",
       "0   eurgbp     100\n",
       "1   btcusd     100\n",
       "2   usdmxn      80\n",
       "3   xauusd      73\n",
       "4   gbpusd      66\n",
       "5   usdjpy      60\n",
       "6   eurusd      47\n",
       "7   audusd      33\n",
       "8   eurjpy      28\n",
       "9   usdcad      28\n",
       "10  gbpjpy      25"
      ]
     },
     "execution_count": 5,
     "metadata": {},
     "output_type": "execute_result"
    }
   ],
   "source": [
    "df_1_ranking"
   ]
  },
  {
   "cell_type": "code",
   "execution_count": 6,
   "metadata": {},
   "outputs": [
    {
     "ename": "NameError",
     "evalue": "name 'go' is not defined",
     "output_type": "error",
     "traceback": [
      "\u001b[0;31m---------------------------------------------------------------------------\u001b[0m",
      "\u001b[0;31mNameError\u001b[0m                                 Traceback (most recent call last)",
      "\u001b[0;32m<ipython-input-6-c08692e813ed>\u001b[0m in \u001b[0;36m<module>\u001b[0;34m\u001b[0m\n\u001b[0;32m----> 1\u001b[0;31m \u001b[0mvi\u001b[0m\u001b[0;34m.\u001b[0m\u001b[0mfig_ranking\u001b[0m\u001b[0;34m(\u001b[0m\u001b[0mdf_1_ranking\u001b[0m\u001b[0;34m)\u001b[0m\u001b[0;34m\u001b[0m\u001b[0;34m\u001b[0m\u001b[0m\n\u001b[0m",
      "\u001b[0;32m~/Documents/Trading/Lab_2_LNGO/visualizaciones.py\u001b[0m in \u001b[0;36mfig_ranking\u001b[0;34m(ranking)\u001b[0m\n\u001b[1;32m     18\u001b[0m     \u001b[0mlabels\u001b[0m \u001b[0;34m=\u001b[0m \u001b[0mranking\u001b[0m\u001b[0;34m[\u001b[0m\u001b[0;34m'Symbol'\u001b[0m\u001b[0;34m]\u001b[0m\u001b[0;34m\u001b[0m\u001b[0;34m\u001b[0m\u001b[0m\n\u001b[1;32m     19\u001b[0m     \u001b[0mvalues\u001b[0m \u001b[0;34m=\u001b[0m \u001b[0mranking\u001b[0m\u001b[0;34m[\u001b[0m\u001b[0;34m'Rank %'\u001b[0m\u001b[0;34m]\u001b[0m\u001b[0;34m\u001b[0m\u001b[0;34m\u001b[0m\u001b[0m\n\u001b[0;32m---> 20\u001b[0;31m     \u001b[0mfig\u001b[0m \u001b[0;34m=\u001b[0m \u001b[0mgo\u001b[0m\u001b[0;34m.\u001b[0m\u001b[0mFigure\u001b[0m\u001b[0;34m(\u001b[0m\u001b[0mdata\u001b[0m\u001b[0;34m=\u001b[0m\u001b[0;34m[\u001b[0m\u001b[0mgo\u001b[0m\u001b[0;34m.\u001b[0m\u001b[0mPie\u001b[0m\u001b[0;34m(\u001b[0m\u001b[0mlabels\u001b[0m\u001b[0;34m=\u001b[0m\u001b[0mlabels\u001b[0m\u001b[0;34m,\u001b[0m \u001b[0mvalues\u001b[0m\u001b[0;34m=\u001b[0m\u001b[0mvalues\u001b[0m\u001b[0;34m,\u001b[0m \u001b[0mpull\u001b[0m\u001b[0;34m=\u001b[0m\u001b[0;34m[\u001b[0m\u001b[0;36m0.15\u001b[0m\u001b[0;34m]\u001b[0m\u001b[0;34m)\u001b[0m\u001b[0;34m]\u001b[0m\u001b[0;34m)\u001b[0m\u001b[0;34m\u001b[0m\u001b[0;34m\u001b[0m\u001b[0m\n\u001b[0m\u001b[1;32m     21\u001b[0m     \u001b[0mfig\u001b[0m\u001b[0;34m.\u001b[0m\u001b[0mupdate_layout\u001b[0m\u001b[0;34m(\u001b[0m\u001b[0mtitle_text\u001b[0m\u001b[0;34m=\u001b[0m\u001b[0;34m'Ranking'\u001b[0m\u001b[0;34m)\u001b[0m\u001b[0;34m\u001b[0m\u001b[0;34m\u001b[0m\u001b[0m\n\u001b[1;32m     22\u001b[0m     \u001b[0;32mreturn\u001b[0m \u001b[0mfig\u001b[0m\u001b[0;34m.\u001b[0m\u001b[0mshow\u001b[0m\u001b[0;34m(\u001b[0m\u001b[0;34m)\u001b[0m\u001b[0;34m\u001b[0m\u001b[0;34m\u001b[0m\u001b[0m\n",
      "\u001b[0;31mNameError\u001b[0m: name 'go' is not defined"
     ]
    }
   ],
   "source": [
    "vi.fig_ranking(df_1_ranking)"
   ]
  },
  {
   "cell_type": "markdown",
   "metadata": {},
   "source": [
    "### Parte 3) \n",
    "##### Medidas de Atribución al Desempeño expresadas semanalmente de una cuenta de trading y de la actividad del trader como persona."
   ]
  },
  {
   "cell_type": "code",
   "execution_count": null,
   "metadata": {},
   "outputs": [],
   "source": [
    "datos= fn.capital_acm(datos)\n",
    "datos.iloc[:,-1]"
   ]
  },
  {
   "cell_type": "code",
   "execution_count": null,
   "metadata": {},
   "outputs": [],
   "source": [
    "[df_profit_d, profit_d_acm_c, profit_d_acm_v] = fn.f_profit_diario(param_data=datos)\n",
    "df_profit_d"
   ]
  },
  {
   "cell_type": "markdown",
   "metadata": {},
   "source": [
    "### Medidas de Atribución al Desempeño (MAD):"
   ]
  },
  {
   "cell_type": "code",
   "execution_count": null,
   "metadata": {
    "scrolled": true
   },
   "outputs": [],
   "source": [
    "Est_MAD = fn.f_estadisticas_mad(df_profit_d,profit_d_acm_c,profit_d_acm_v)\n",
    "Est_MAD"
   ]
  },
  {
   "cell_type": "code",
   "execution_count": null,
   "metadata": {},
   "outputs": [],
   "source": [
    "vi.fig_draw_down_up(df_profit_d, Est_MAD)"
   ]
  },
  {
   "cell_type": "markdown",
   "metadata": {},
   "source": [
    "### Sesgos Cognitivos "
   ]
  },
  {
   "cell_type": "code",
   "execution_count": null,
   "metadata": {},
   "outputs": [],
   "source": [
    "df_be_de = fn.f_be_de(datos)\n",
    "df_be_de"
   ]
  },
  {
   "cell_type": "code",
   "execution_count": null,
   "metadata": {},
   "outputs": [],
   "source": [
    "vi.fig_dispo_eff(df_be_de)"
   ]
  },
  {
   "cell_type": "markdown",
   "metadata": {},
   "source": [
    "# Análisis con mis datos"
   ]
  },
  {
   "cell_type": "code",
   "execution_count": null,
   "metadata": {},
   "outputs": [],
   "source": [
    "#Datos\n",
    "datosLNGO = fn.f_leer_archivo(param_archivo='archivo_1_LNGO.xlsx')\n",
    "datosLNGO = fn.f_columnas_tiempos(datosLNGO)\n",
    "datosLNGO = fn.f_columnas_pips(datosLNGO)\n",
    "datosLNGO"
   ]
  },
  {
   "cell_type": "code",
   "execution_count": null,
   "metadata": {},
   "outputs": [],
   "source": [
    "[df_1_tablaLNGO, df_1_rankingLNGO]  = fn.f_estadisticas_ba(datosLNGO)\n",
    "df_1_tablaLNGO"
   ]
  },
  {
   "cell_type": "code",
   "execution_count": null,
   "metadata": {},
   "outputs": [],
   "source": [
    "df_1_rankingLNGO"
   ]
  },
  {
   "cell_type": "code",
   "execution_count": null,
   "metadata": {},
   "outputs": [],
   "source": [
    "vi.fig_ranking(df_1_rankingLNGO)"
   ]
  },
  {
   "cell_type": "code",
   "execution_count": null,
   "metadata": {},
   "outputs": [],
   "source": [
    "datosLNGO= fn.capital_acm(datosLNGO)\n",
    "datosLNGO.iloc[:,-1]"
   ]
  },
  {
   "cell_type": "code",
   "execution_count": null,
   "metadata": {},
   "outputs": [],
   "source": [
    "[df_profit_d_LNGO, profit_d_acm_c_LNGO, profit_d_acm_v_LNGO] = fn.f_profit_diario(param_data=datosLNGO)\n",
    "df_profit_d_LNGO"
   ]
  },
  {
   "cell_type": "markdown",
   "metadata": {},
   "source": [
    "### Medidas de Atribución al Desempeño (MAD): "
   ]
  },
  {
   "cell_type": "code",
   "execution_count": null,
   "metadata": {},
   "outputs": [],
   "source": [
    "Est_MAD_LNGO = fn.f_estadisticas_mad(df_profit_d_LNGO,profit_d_acm_c_LNGO,profit_d_acm_v_LNGO)\n",
    "Est_MAD_LNGO"
   ]
  },
  {
   "cell_type": "code",
   "execution_count": null,
   "metadata": {},
   "outputs": [],
   "source": [
    "vi.fig_draw_down_up(df_profit_d_LNGO, Est_MAD_LNGO)"
   ]
  },
  {
   "cell_type": "markdown",
   "metadata": {},
   "source": [
    "#### Sharpe\n",
    "- La rentabilidad de mis movimientos de traiding en comparación con la tasa de riesgo de 8% ha sido positivo y de 24.59%, lo que indica que la forma de inversión fue rentable y sin grandes altibajos.\n",
    "\n",
    "#### Sortino Ratio \n",
    "- El sortino ratio indica la rentabilidad que podemos esperar sobre el umbral mínimo de retorno. Sortino castiga más que Sharpe, ya que Sortino no toma en cuenta las desviaciones de las subidas. \n",
    "- ##### Sortino Ratio Compra\n",
    "    - es positivo y muy grande, indica que cuando se hacen movimientos de compra se ganará muy bien y se perderá muy poco.\n",
    "- ##### Sortino Ratio Venta \n",
    "    - es negativo y bajo, lo que indica que en los movimientos de venta se pierde más y la guanacia será muy poca.\n",
    "\n",
    "#### DrawDown \n",
    "- La mayor minusvalía que se obtuvo fue en un día, y esto porque en el momento de invertir tuve disposition effect y aguante por varios días un movimiento que estaba perdiendo dinero, esto en los últimos días del ejercicio.\n",
    "\n",
    "#### DrawUp\n",
    "- La mayor plusvalía que se obtuvo en 4 días, y se vio detenida porque de nuevo se tuvo sesgo de disposition effect, ya que pare varias operaciones antes cuando seguían con un comportamiento favorable a mi posición.\n",
    "\n",
    "#### Information Ratio\n",
    "- Este indica que se obtuvo un 58% de rendimiento a comparación del comportamiento del SPX500_USD.\n",
    "\n"
   ]
  },
  {
   "cell_type": "markdown",
   "metadata": {},
   "source": [
    "### Sesgos Cognitivos "
   ]
  },
  {
   "cell_type": "code",
   "execution_count": null,
   "metadata": {},
   "outputs": [],
   "source": [
    "df_be_de_LNGO = fn.f_be_de(datosLNGO)\n",
    "df_be_de_LNGO"
   ]
  },
  {
   "cell_type": "markdown",
   "metadata": {},
   "source": [
    "Si se tuvo el sesgo, puedo admitir que al final más que al principio, llegue a dejar abierta una operación por más de 4 días para no llegar a \"perder\" tanto, pero cuando tuve la oportunidad de pararla con la mínima perdida para entonces no lo hice por creer que se recuperaría.  "
   ]
  },
  {
   "cell_type": "code",
   "execution_count": null,
   "metadata": {},
   "outputs": [],
   "source": [
    "vi.fig_dispo_eff(df_be_de_LNGO)"
   ]
  },
  {
   "cell_type": "markdown",
   "metadata": {},
   "source": [
    "<script>\n",
    "  $(document).ready(function(){\n",
    "    $('div.prompt').hide();\n",
    "    $('div.back-to-top').hide();\n",
    "    $('nav#menubar').hide();\n",
    "    $('.breadcrumb').hide();\n",
    "    $('.hidden-print').hide();\n",
    "  });\n",
    "</script>\n",
    "\n",
    "<footer id=\"attribution\" style=\"float:right; color:#808080; background:#fff;\">\n",
    "Created with Jupyter by Lidia Natasha Gamez Ortiz\n",
    "</footer>"
   ]
  },
  {
   "cell_type": "code",
   "execution_count": null,
   "metadata": {},
   "outputs": [],
   "source": []
  }
 ],
 "metadata": {
  "kernelspec": {
   "display_name": "Python 3",
   "language": "python",
   "name": "python3"
  },
  "language_info": {
   "codemirror_mode": {
    "name": "ipython",
    "version": 3
   },
   "file_extension": ".py",
   "mimetype": "text/x-python",
   "name": "python",
   "nbconvert_exporter": "python",
   "pygments_lexer": "ipython3",
   "version": "3.7.1"
  }
 },
 "nbformat": 4,
 "nbformat_minor": 2
}
